{
  "nbformat": 4,
  "nbformat_minor": 0,
  "metadata": {
    "colab": {
      "provenance": [],
      "collapsed_sections": [],
      "include_colab_link": true
    },
    "kernelspec": {
      "name": "python3",
      "display_name": "Python 3"
    }
  },
  "cells": [
    {
      "cell_type": "markdown",
      "metadata": {
        "id": "view-in-github",
        "colab_type": "text"
      },
      "source": [
        "<a href=\"https://colab.research.google.com/github/Rajat-Sri/Project---Dream-Premier-League/blob/main/Project_Dream_Premier_League.ipynb\" target=\"_parent\"><img src=\"https://colab.research.google.com/assets/colab-badge.svg\" alt=\"Open In Colab\"/></a>"
      ]
    },
    {
      "cell_type": "markdown",
      "metadata": {
        "id": "8hjlpv4ix8LQ"
      },
      "source": [
        "# <u>Dream Premier League (DPL)</u>\n",
        "\n",
        "### A match of DPL is going on. Team Aravali has a made score of **195** for **7** in **20** overs and the opponent Team Shivalik is doing some analytics to find out what they need to do to win. You are the Data Scientist of the Team Shivalik and you have been asked to help them."
      ]
    },
    {
      "cell_type": "markdown",
      "metadata": {
        "id": "JkqzpQzX54Z-"
      },
      "source": [
        "## <u>Problem 1</u>\n",
        " \n",
        "###Team Shivalik has stored the runs made by Team Aravali players in the following dictionary.\n",
        "\n"
      ]
    },
    {
      "cell_type": "code",
      "metadata": {
        "id": "rypcBaB37JMD"
      },
      "source": [
        "aravali ={ \"Dhoni\":25, \"Virat\":31, \"Pollard\":11, \"Rohit\": 0, \"Maxwell\":12, \"Sachin\":59, \"Sehwag\":12 }"
      ],
      "execution_count": 1,
      "outputs": []
    },
    {
      "cell_type": "markdown",
      "metadata": {
        "id": "747H1msbg-ns"
      },
      "source": [
        "### Get the list of all players in Team Aravali"
      ]
    },
    {
      "cell_type": "code",
      "metadata": {
        "id": "poP0TCGdhLuj",
        "colab": {
          "base_uri": "https://localhost:8080/"
        },
        "outputId": "55ba8cfc-50bc-40dd-e60a-f8feb41b874a"
      },
      "source": [
        "# Get the list of players in Team Aravali\n",
        "print(list(aravali.keys()))"
      ],
      "execution_count": 2,
      "outputs": [
        {
          "output_type": "stream",
          "name": "stdout",
          "text": [
            "['Dhoni', 'Virat', 'Pollard', 'Rohit', 'Maxwell', 'Sachin', 'Sehwag']\n"
          ]
        }
      ]
    },
    {
      "cell_type": "markdown",
      "metadata": {
        "id": "YypMEr-i7fCE"
      },
      "source": [
        "## <u>Problem 2</u>\n",
        "\n",
        "### By mistake, the runs made by Rohit was recorded as <code>0</code>. Your next task is to figure out how many runs were made by Rohit and update the dictionary"
      ]
    },
    {
      "cell_type": "code",
      "metadata": {
        "id": "DZTXlt9I51vd"
      },
      "source": [
        "# We know the total runs\n",
        "total_runs = 195\n",
        "\n",
        "# Sum of runs made by the players from Team Aravali\n",
        "runs_according_to_aravali_dict = sum(aravali.values())\n",
        "\n",
        "# Runs made by Rohit\n",
        "rohit_runs = total_runs - runs_according_to_aravali_dict"
      ],
      "execution_count": 3,
      "outputs": []
    },
    {
      "cell_type": "code",
      "metadata": {
        "id": "N46LGzE97waZ",
        "colab": {
          "base_uri": "https://localhost:8080/"
        },
        "outputId": "1c9666c6-caa3-4939-a30c-4a64ceab1839"
      },
      "source": [
        "# Print runs scored by Rohit\n",
        "print(f'The actual runs made by Rohit is {rohit_runs}')"
      ],
      "execution_count": 4,
      "outputs": [
        {
          "output_type": "stream",
          "name": "stdout",
          "text": [
            "The actual runs made by Rohit is 45\n"
          ]
        }
      ]
    },
    {
      "cell_type": "code",
      "metadata": {
        "id": "4rTAegi67zOq",
        "colab": {
          "base_uri": "https://localhost:8080/"
        },
        "outputId": "e85e9b82-e534-40ad-e6b0-a5bd241efc67"
      },
      "source": [
        "# Update the dictionary with correct value of runs\n",
        "aravali['Rohit'] = rohit_runs\n",
        "print(aravali)"
      ],
      "execution_count": 5,
      "outputs": [
        {
          "output_type": "stream",
          "name": "stdout",
          "text": [
            "{'Dhoni': 25, 'Virat': 31, 'Pollard': 11, 'Rohit': 45, 'Maxwell': 12, 'Sachin': 59, 'Sehwag': 12}\n"
          ]
        }
      ]
    },
    {
      "cell_type": "markdown",
      "metadata": {
        "id": "iM1FJFlWh7C5"
      },
      "source": [
        "## <u>Problem 3</u>\n",
        "\n",
        "#### Your next task is to find out who scored the second highest runs in Team Aravali"
      ]
    },
    {
      "cell_type": "markdown",
      "metadata": {
        "id": "NP8T6swt-fDV"
      },
      "source": [
        "###  <u>Approach 1</u>"
      ]
    },
    {
      "cell_type": "code",
      "metadata": {
        "id": "YPdfTlsKiWVx"
      },
      "source": [
        "# Your code below\n",
        "aravali_copy = aravali.copy()"
      ],
      "execution_count": 6,
      "outputs": []
    },
    {
      "cell_type": "code",
      "metadata": {
        "id": "rchwFGCc7-RU",
        "colab": {
          "base_uri": "https://localhost:8080/"
        },
        "outputId": "3777191f-108f-4571-ecb2-93c16510b789"
      },
      "source": [
        "aravali_copy"
      ],
      "execution_count": 7,
      "outputs": [
        {
          "output_type": "execute_result",
          "data": {
            "text/plain": [
              "{'Dhoni': 25,\n",
              " 'Virat': 31,\n",
              " 'Pollard': 11,\n",
              " 'Rohit': 45,\n",
              " 'Maxwell': 12,\n",
              " 'Sachin': 59,\n",
              " 'Sehwag': 12}"
            ]
          },
          "metadata": {},
          "execution_count": 7
        }
      ]
    },
    {
      "cell_type": "code",
      "metadata": {
        "id": "ROgmIGYb8BV-",
        "colab": {
          "base_uri": "https://localhost:8080/"
        },
        "outputId": "758f73ac-6fcb-4259-fe14-09c4db42ef17"
      },
      "source": [
        "max_runs = max(list(aravali_copy.values()))\n",
        "max_run_index = list(aravali_copy.values()).index(max_runs)\n",
        "print(max_run_index)"
      ],
      "execution_count": 8,
      "outputs": [
        {
          "output_type": "stream",
          "name": "stdout",
          "text": [
            "5\n"
          ]
        }
      ]
    },
    {
      "cell_type": "code",
      "metadata": {
        "id": "AGaZ8y208qtB",
        "colab": {
          "base_uri": "https://localhost:8080/"
        },
        "outputId": "ba36ec52-8be5-4af6-a47e-35ee1f421ff4"
      },
      "source": [
        "aravali_players = list(aravali_copy.keys())\n",
        "print(aravali_players)"
      ],
      "execution_count": 9,
      "outputs": [
        {
          "output_type": "stream",
          "name": "stdout",
          "text": [
            "['Dhoni', 'Virat', 'Pollard', 'Rohit', 'Maxwell', 'Sachin', 'Sehwag']\n"
          ]
        }
      ]
    },
    {
      "cell_type": "code",
      "metadata": {
        "id": "9ZIc_3ZI8q0H"
      },
      "source": [
        "highest_run_scorer = aravali_players[max_run_index]"
      ],
      "execution_count": 10,
      "outputs": []
    },
    {
      "cell_type": "code",
      "metadata": {
        "id": "3JjeRXQ68q4V",
        "colab": {
          "base_uri": "https://localhost:8080/"
        },
        "outputId": "1f071103-5d4c-492b-f7af-58f824db14c7"
      },
      "source": [
        "aravali_copy.pop(highest_run_scorer)"
      ],
      "execution_count": 11,
      "outputs": [
        {
          "output_type": "execute_result",
          "data": {
            "text/plain": [
              "59"
            ]
          },
          "metadata": {},
          "execution_count": 11
        }
      ]
    },
    {
      "cell_type": "code",
      "metadata": {
        "id": "6W_vQone9Lrq",
        "colab": {
          "base_uri": "https://localhost:8080/"
        },
        "outputId": "fb6d83ea-ef99-4d8b-8453-ce3ed3b6ed18"
      },
      "source": [
        "print(aravali_copy)"
      ],
      "execution_count": 12,
      "outputs": [
        {
          "output_type": "stream",
          "name": "stdout",
          "text": [
            "{'Dhoni': 25, 'Virat': 31, 'Pollard': 11, 'Rohit': 45, 'Maxwell': 12, 'Sehwag': 12}\n"
          ]
        }
      ]
    },
    {
      "cell_type": "code",
      "metadata": {
        "id": "0YBKUfw39Lu0",
        "colab": {
          "base_uri": "https://localhost:8080/"
        },
        "outputId": "5e0c4636-74f7-48aa-f22e-b7175124b287"
      },
      "source": [
        "max_runs = max(list(aravali_copy.values()))\n",
        "max_run_index = list(aravali_copy.values()).index(max_runs)\n",
        "print(max_run_index)"
      ],
      "execution_count": 13,
      "outputs": [
        {
          "output_type": "stream",
          "name": "stdout",
          "text": [
            "3\n"
          ]
        }
      ]
    },
    {
      "cell_type": "code",
      "metadata": {
        "id": "oCssb6Ke9Z1n",
        "colab": {
          "base_uri": "https://localhost:8080/"
        },
        "outputId": "2e516427-5da9-442d-b396-e758aea64492"
      },
      "source": [
        "aravali_players = list(aravali_copy.keys())\n",
        "print(aravali_players)"
      ],
      "execution_count": 14,
      "outputs": [
        {
          "output_type": "stream",
          "name": "stdout",
          "text": [
            "['Dhoni', 'Virat', 'Pollard', 'Rohit', 'Maxwell', 'Sehwag']\n"
          ]
        }
      ]
    },
    {
      "cell_type": "code",
      "metadata": {
        "id": "vnfepqAw9L4A",
        "colab": {
          "base_uri": "https://localhost:8080/"
        },
        "outputId": "9e6c12c7-46f1-48e2-bf1d-466396ca77f9"
      },
      "source": [
        "print(f'The second highest scorer from Team Aravali is {aravali_players[max_run_index]}')"
      ],
      "execution_count": 15,
      "outputs": [
        {
          "output_type": "stream",
          "name": "stdout",
          "text": [
            "The second highest scorer from Team Aravali is Rohit\n"
          ]
        }
      ]
    },
    {
      "cell_type": "markdown",
      "metadata": {
        "id": "se80XQGBGekX"
      },
      "source": [
        "## <u>Problem 4</u>\n",
        "\n",
        "#### Just out of curiosity, you want to find out the unique runs made by Team Aravali players."
      ]
    },
    {
      "cell_type": "code",
      "metadata": {
        "id": "X-XQWW4lGZaG"
      },
      "source": [
        "# Your code below\n",
        "run_set = set(list(aravali.values()))"
      ],
      "execution_count": 16,
      "outputs": []
    },
    {
      "cell_type": "code",
      "metadata": {
        "id": "GL56nYUzF6hs",
        "colab": {
          "base_uri": "https://localhost:8080/"
        },
        "outputId": "f19849ec-e42b-4118-b0c9-4170215759ed"
      },
      "source": [
        "# Print the unique runs\n",
        "run_set"
      ],
      "execution_count": 17,
      "outputs": [
        {
          "output_type": "execute_result",
          "data": {
            "text/plain": [
              "{11, 12, 25, 31, 45, 59}"
            ]
          },
          "metadata": {},
          "execution_count": 17
        }
      ]
    },
    {
      "cell_type": "markdown",
      "metadata": {
        "id": "IJvnHaNzeGMP"
      },
      "source": [
        "## <u>Problem 5</u>\n",
        "#### Team Shivalik has 6 fixed players and 5 slots for players who are playing good currently. Create two collections using appropriate data structure to write this 6 fixed and 5 mutable players. You can choose any player you want.\n",
        "\n",
        "#### Available Players in the squad : \n",
        "<code>['Vijay', 'Lasith', 'Dravid', 'Smith', 'Ambati', 'Hardik', 'Sushant', 'Mandeep', 'Harbhajan', 'Yuvraj', 'Jadeja','Rajeev','Amrit']\n"
      ]
    },
    {
      "cell_type": "code",
      "metadata": {
        "id": "-0hTOMTQdEXE"
      },
      "source": [
        "# Your code below\n",
        "fixed = ('Vijay', 'Lasith', 'Dravid', 'Smith', 'Ambati','Hardik')\n",
        "mutable = [ 'Sushant', 'Mandeep', 'Harbhajan', 'Yuvraj', 'Jadeja']"
      ],
      "execution_count": 18,
      "outputs": []
    },
    {
      "cell_type": "code",
      "metadata": {
        "id": "FUIL4iblDTIo",
        "colab": {
          "base_uri": "https://localhost:8080/"
        },
        "outputId": "4f8008b6-5de5-4c00-dd47-670aa3e94eb3"
      },
      "source": [
        "print(fixed)"
      ],
      "execution_count": 19,
      "outputs": [
        {
          "output_type": "stream",
          "name": "stdout",
          "text": [
            "('Vijay', 'Lasith', 'Dravid', 'Smith', 'Ambati', 'Hardik')\n"
          ]
        }
      ]
    },
    {
      "cell_type": "code",
      "metadata": {
        "id": "LRUwyjXzDWyF",
        "colab": {
          "base_uri": "https://localhost:8080/"
        },
        "outputId": "0ec0cfe3-80d1-4d5b-81ec-a4544311ff0e"
      },
      "source": [
        "print(mutable)"
      ],
      "execution_count": 20,
      "outputs": [
        {
          "output_type": "stream",
          "name": "stdout",
          "text": [
            "['Sushant', 'Mandeep', 'Harbhajan', 'Yuvraj', 'Jadeja']\n"
          ]
        }
      ]
    },
    {
      "cell_type": "code",
      "metadata": {
        "id": "1PEvrGDwfjc5",
        "colab": {
          "base_uri": "https://localhost:8080/"
        },
        "outputId": "5d9090c2-ea4b-40a2-f0c5-c059f1003575"
      },
      "source": [
        "# Print them on same line using comma to separate them\n",
        "print(f'{fixed},{mutable}')"
      ],
      "execution_count": 21,
      "outputs": [
        {
          "output_type": "stream",
          "name": "stdout",
          "text": [
            "('Vijay', 'Lasith', 'Dravid', 'Smith', 'Ambati', 'Hardik'),['Sushant', 'Mandeep', 'Harbhajan', 'Yuvraj', 'Jadeja']\n"
          ]
        }
      ]
    },
    {
      "cell_type": "code",
      "metadata": {
        "id": "QUR1GgmZDoEF",
        "colab": {
          "base_uri": "https://localhost:8080/"
        },
        "outputId": "bdb94605-f30e-4483-baa6-dae16d1bcbe5"
      },
      "source": [
        "help(print)"
      ],
      "execution_count": 22,
      "outputs": [
        {
          "output_type": "stream",
          "name": "stdout",
          "text": [
            "Help on built-in function print in module builtins:\n",
            "\n",
            "print(...)\n",
            "    print(value, ..., sep=' ', end='\\n', file=sys.stdout, flush=False)\n",
            "    \n",
            "    Prints the values to a stream, or to sys.stdout by default.\n",
            "    Optional keyword arguments:\n",
            "    file:  a file-like object (stream); defaults to the current sys.stdout.\n",
            "    sep:   string inserted between values, default a space.\n",
            "    end:   string appended after the last value, default a newline.\n",
            "    flush: whether to forcibly flush the stream.\n",
            "\n"
          ]
        }
      ]
    },
    {
      "cell_type": "code",
      "metadata": {
        "id": "ssuIdJarD2tG",
        "colab": {
          "base_uri": "https://localhost:8080/"
        },
        "outputId": "ab998837-f744-4f45-b85d-28bfb7aef055"
      },
      "source": [
        "print(fixed,mutable,sep=\",\")"
      ],
      "execution_count": 23,
      "outputs": [
        {
          "output_type": "stream",
          "name": "stdout",
          "text": [
            "('Vijay', 'Lasith', 'Dravid', 'Smith', 'Ambati', 'Hardik'),['Sushant', 'Mandeep', 'Harbhajan', 'Yuvraj', 'Jadeja']\n"
          ]
        }
      ]
    },
    {
      "cell_type": "code",
      "metadata": {
        "id": "9kpK40sJD9RB",
        "colab": {
          "base_uri": "https://localhost:8080/"
        },
        "outputId": "8032bece-9b26-4dea-e593-6d05aa79910e"
      },
      "source": [
        "print(fixed,',',mutable)"
      ],
      "execution_count": 24,
      "outputs": [
        {
          "output_type": "stream",
          "name": "stdout",
          "text": [
            "('Vijay', 'Lasith', 'Dravid', 'Smith', 'Ambati', 'Hardik') , ['Sushant', 'Mandeep', 'Harbhajan', 'Yuvraj', 'Jadeja']\n"
          ]
        }
      ]
    },
    {
      "cell_type": "markdown",
      "metadata": {
        "id": "N-VdT09NfhL6"
      },
      "source": [
        "## <u>Problem 6</u>\n",
        "Try changing fixed player and mutable player"
      ]
    },
    {
      "cell_type": "code",
      "metadata": {
        "id": "E4lN-bxbffnF",
        "colab": {
          "base_uri": "https://localhost:8080/",
          "height": 183
        },
        "outputId": "df77f3b3-aed4-40ed-e882-d057fd883c53"
      },
      "source": [
        "# Change fixed player\n",
        "fixed[0] = 'Risabh'"
      ],
      "execution_count": 25,
      "outputs": [
        {
          "output_type": "error",
          "ename": "TypeError",
          "evalue": "ignored",
          "traceback": [
            "\u001b[0;31m---------------------------------------------------------------------------\u001b[0m",
            "\u001b[0;31mTypeError\u001b[0m                                 Traceback (most recent call last)",
            "\u001b[0;32m<ipython-input-25-7cedb8ee1127>\u001b[0m in \u001b[0;36m<module>\u001b[0;34m\u001b[0m\n\u001b[1;32m      1\u001b[0m \u001b[0;31m# Change fixed player\u001b[0m\u001b[0;34m\u001b[0m\u001b[0;34m\u001b[0m\u001b[0;34m\u001b[0m\u001b[0m\n\u001b[0;32m----> 2\u001b[0;31m \u001b[0mfixed\u001b[0m\u001b[0;34m[\u001b[0m\u001b[0;36m0\u001b[0m\u001b[0;34m]\u001b[0m \u001b[0;34m=\u001b[0m \u001b[0;34m'Risabh'\u001b[0m\u001b[0;34m\u001b[0m\u001b[0;34m\u001b[0m\u001b[0m\n\u001b[0m",
            "\u001b[0;31mTypeError\u001b[0m: 'tuple' object does not support item assignment"
          ]
        }
      ]
    },
    {
      "cell_type": "code",
      "metadata": {
        "id": "mbfWHggRgYJK",
        "colab": {
          "base_uri": "https://localhost:8080/"
        },
        "outputId": "2971d00b-5588-47d3-823b-5580c91192b0"
      },
      "source": [
        "# Change mutable player\n",
        "mutable[0] = 'Rajeev'\n",
        "mutable"
      ],
      "execution_count": 26,
      "outputs": [
        {
          "output_type": "execute_result",
          "data": {
            "text/plain": [
              "['Rajeev', 'Mandeep', 'Harbhajan', 'Yuvraj', 'Jadeja']"
            ]
          },
          "metadata": {},
          "execution_count": 26
        }
      ]
    },
    {
      "cell_type": "markdown",
      "metadata": {
        "id": "KHrH5V0HFFhq"
      },
      "source": [
        "## <u> Problem 7</u>\n",
        "\n",
        "#### Find out the runrate required for Team Shivalik to win (for 20 overs)<br> \n",
        "#### Hint: Runrate is runs required per over to win the match"
      ]
    },
    {
      "cell_type": "code",
      "metadata": {
        "id": "QFd1CnS5E79X"
      },
      "source": [
        "# Your code here\n",
        "total_runs = 195\n",
        "required_runrate = (total_runs+1)/20"
      ],
      "execution_count": 27,
      "outputs": []
    },
    {
      "cell_type": "code",
      "metadata": {
        "id": "7f5Mnj93Ft3a",
        "colab": {
          "base_uri": "https://localhost:8080/"
        },
        "outputId": "73bbecfb-378b-4358-8c67-486fe5b86614"
      },
      "source": [
        "# Print the run rate\n",
        "print(required_runrate)"
      ],
      "execution_count": 28,
      "outputs": [
        {
          "output_type": "stream",
          "name": "stdout",
          "text": [
            "9.8\n"
          ]
        }
      ]
    },
    {
      "cell_type": "markdown",
      "metadata": {
        "id": "uukQzwZQNwBE"
      },
      "source": [
        "## <u> Problem 8</u>\n",
        "#### You have just received a secret message form your informant stating that some players of the other team are into match fixing. You have to decode a message and inform authorities about it.<br>\n",
        "\n",
        "#### You received a string **\"skdlfjnvuerhw qefnnaosfu qrhviudhfv wuirhv adknlkxjcier vafuvhkajn iuvhsf vasuif KJSHFKJ aeuihvasf akjfhiufe\"** and position of \"i\" are going to be \"no balls\".\n",
        "\n",
        "\n",
        "### Find the first and last no ball from the string."
      ]
    },
    {
      "cell_type": "code",
      "metadata": {
        "id": "qJpki-fNJxvr",
        "colab": {
          "base_uri": "https://localhost:8080/"
        },
        "outputId": "db2ca9bf-d70b-4c16-e1e0-05500e08e43f"
      },
      "source": [
        "#First no ball\n",
        "message = \"skibhiko\"\n",
        "\n",
        "first_no_ball_number = message.index('i') + 1\n",
        "print(f'The first no ball will be delivered at the number {first_no_ball_number}')"
      ],
      "execution_count": 29,
      "outputs": [
        {
          "output_type": "stream",
          "name": "stdout",
          "text": [
            "The first no ball will be delivered at the number 3\n"
          ]
        }
      ]
    },
    {
      "cell_type": "code",
      "metadata": {
        "id": "N9krTk1aG2n0",
        "colab": {
          "base_uri": "https://localhost:8080/"
        },
        "outputId": "ed924672-04a8-43b6-9fa9-da36f13a06bb"
      },
      "source": [
        "# Last no ball\n",
        "reverse_message = message[::-1]\n",
        "\n",
        "# Find the first occurrence in this reversed message\n",
        "no_ball_number = reverse_message.index('i') \n",
        "\n",
        "print(no_ball_number)"
      ],
      "execution_count": 30,
      "outputs": [
        {
          "output_type": "stream",
          "name": "stdout",
          "text": [
            "2\n"
          ]
        }
      ]
    },
    {
      "cell_type": "code",
      "metadata": {
        "id": "8qMvmZydQAlr",
        "colab": {
          "base_uri": "https://localhost:8080/"
        },
        "outputId": "7d8134bc-4678-494b-cd34-fb27884fc271"
      },
      "source": [
        "# Print the first and last ball numbers\n",
        "message_length = len(message)\n",
        "\n",
        "last_no_ball_number = message_length - no_ball_number\n",
        "\n",
        "print(f'The last no ball will be delivered at the delivery number {last_no_ball_number}')"
      ],
      "execution_count": 31,
      "outputs": [
        {
          "output_type": "stream",
          "name": "stdout",
          "text": [
            "The last no ball will be delivered at the delivery number 6\n"
          ]
        }
      ]
    },
    {
      "cell_type": "markdown",
      "metadata": {
        "id": "dOIGKmlKaV8j"
      },
      "source": [
        "## <u>Problem 9</u>\n",
        "\n",
        "### You have given the information about fixing to the authorities and they are going to verify it during the match. But still you have to work on your strategy.\n",
        "\n",
        "### It is in your hands to automate the decision on who goes on 4th position for batting depending on following criteria:\n",
        "\n",
        "* if runs made by Team Shivalik is less than 50, Smith will play\n",
        "* if runs are between 50 to 100 then Sir Jadeja will go\n",
        "* if runs are above 100 then Hardik will play"
      ]
    },
    {
      "cell_type": "code",
      "metadata": {
        "id": "DpnGURU1Y-Af",
        "colab": {
          "base_uri": "https://localhost:8080/"
        },
        "outputId": "5ca8780f-733c-4bc2-8971-87db9728378f"
      },
      "source": [
        "# Your code below\n",
        "shivalik_runs = int(input())"
      ],
      "execution_count": 32,
      "outputs": [
        {
          "name": "stdout",
          "output_type": "stream",
          "text": [
            "76\n"
          ]
        }
      ]
    },
    {
      "cell_type": "code",
      "metadata": {
        "id": "d7eFAZQEJrqU",
        "colab": {
          "base_uri": "https://localhost:8080/"
        },
        "outputId": "a97d00ca-6d53-4f68-d3fe-6f69442143fb"
      },
      "source": [
        "print(shivalik_runs)"
      ],
      "execution_count": 33,
      "outputs": [
        {
          "output_type": "stream",
          "name": "stdout",
          "text": [
            "76\n"
          ]
        }
      ]
    },
    {
      "cell_type": "code",
      "metadata": {
        "id": "2CYGOSG9JDc5",
        "colab": {
          "base_uri": "https://localhost:8080/"
        },
        "outputId": "b21660be-df9d-406e-cc18-2756ab1a35d8"
      },
      "source": [
        "# Write the required if elif else statements\n",
        "\n",
        "if shivalik_runs > 0 and shivalik_runs < 50 :\n",
        "  print(\"Smith will go\")\n",
        "elif shivalik_runs >=50 and shivalik_runs < 100 :\n",
        "  print(\"Sir Jadeja will go\")\n",
        "elif shivalik_runs >=100:\n",
        "  print(\"Send Hardik to bat\")\n",
        "else:\n",
        "  print(\"Invalid runs\")"
      ],
      "execution_count": 34,
      "outputs": [
        {
          "output_type": "stream",
          "name": "stdout",
          "text": [
            "Sir Jadeja will go\n"
          ]
        }
      ]
    },
    {
      "cell_type": "markdown",
      "metadata": {
        "id": "kLakmjOYmKMM"
      },
      "source": [
        "# Hurray! Turns out we won the match and the guilty players are punished as well."
      ]
    }
  ]
}