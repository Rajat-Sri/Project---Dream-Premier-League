{
  "nbformat": 4,
  "nbformat_minor": 0,
  "metadata": {
    "colab": {
      "provenance": [],
      "collapsed_sections": [],
      "include_colab_link": true
    },
    "kernelspec": {
      "name": "python3",
      "display_name": "Python 3"
    }
  },
  "cells": [
    {
      "cell_type": "markdown",
      "metadata": {
        "id": "view-in-github",
        "colab_type": "text"
      },
      "source": [
        "<a href=\"https://colab.research.google.com/github/Rajat-Sri/Project---Dream-Premier-League/blob/main/Project_Dream_Premier_League.ipynb\" target=\"_parent\"><img src=\"https://colab.research.google.com/assets/colab-badge.svg\" alt=\"Open In Colab\"/></a>"
      ]
    },
    {
      "cell_type": "markdown",
      "metadata": {
        "id": "8hjlpv4ix8LQ"
      },
      "source": [
        "# <u>Dream Premier League (DPL)</u>\n",
        "\n",
        "### A match of DPL is going on. Team Aravali has a made score of **195** for **7** in **20** overs and the opponent Team Shivalik is doing some analytics to find out what they need to do to win. You are the Data Scientist of the Team Shivalik and you have been asked to help them."
      ]
    },
    {
      "cell_type": "markdown",
      "metadata": {
        "id": "JkqzpQzX54Z-"
      },
      "source": [
        "## <u>Problem 1</u>\n",
        " \n",
        "###Team Shivalik has stored the runs made by Team Aravali players in the following dictionary.\n",
        "\n"
      ]
    },
    {
      "cell_type": "code",
      "metadata": {
        "id": "rypcBaB37JMD"
      },
      "source": [
        "aravali ={ \"Dhoni\":25, \"Virat\":31, \"Pollard\":11, \"Rohit\": 0, \"Maxwell\":12, \"Sachin\":59, \"Sehwag\":12 }"
      ],
      "execution_count": 37,
      "outputs": []
    },
    {
      "cell_type": "markdown",
      "metadata": {
        "id": "747H1msbg-ns"
      },
      "source": [
        "### Get the list of all players in Team Aravali"
      ]
    },
    {
      "cell_type": "code",
      "metadata": {
        "id": "poP0TCGdhLuj",
        "colab": {
          "base_uri": "https://localhost:8080/"
        },
        "outputId": "f119a321-163a-4318-bea2-5a72c097d2dd"
      },
      "source": [
        "# Get the list of players in Team Aravali\n",
        "print(list(aravali.keys()))"
      ],
      "execution_count": 38,
      "outputs": [
        {
          "output_type": "stream",
          "name": "stdout",
          "text": [
            "['Dhoni', 'Virat', 'Pollard', 'Rohit', 'Maxwell', 'Sachin', 'Sehwag']\n"
          ]
        }
      ]
    },
    {
      "cell_type": "markdown",
      "metadata": {
        "id": "YypMEr-i7fCE"
      },
      "source": [
        "## <u>Problem 2</u>\n",
        "\n",
        "### By mistake, the runs made by Rohit was recorded as <code>0</code>. Your next task is to figure out how many runs were made by Rohit and update the dictionary"
      ]
    },
    {
      "cell_type": "code",
      "metadata": {
        "id": "DZTXlt9I51vd"
      },
      "source": [
        "# We know the total runs\n",
        "total_runs = 195\n",
        "\n",
        "# Sum of runs made by the players from Team Aravali\n",
        "runs_according_to_aravali_dict = sum(aravali.values())\n",
        "\n",
        "# Runs made by Rohit\n",
        "rohit_runs = total_runs - runs_according_to_aravali_dict"
      ],
      "execution_count": 39,
      "outputs": []
    },
    {
      "cell_type": "code",
      "metadata": {
        "id": "N46LGzE97waZ",
        "colab": {
          "base_uri": "https://localhost:8080/"
        },
        "outputId": "4cc2fd8b-bf7b-4446-d88f-4d9564037140"
      },
      "source": [
        "# Print runs scored by Rohit\n",
        "print(f'The actual runs made by Rohit is {rohit_runs}')"
      ],
      "execution_count": 40,
      "outputs": [
        {
          "output_type": "stream",
          "name": "stdout",
          "text": [
            "The actual runs made by Rohit is 45\n"
          ]
        }
      ]
    },
    {
      "cell_type": "code",
      "metadata": {
        "id": "4rTAegi67zOq",
        "colab": {
          "base_uri": "https://localhost:8080/"
        },
        "outputId": "49841622-20c0-4f72-8a02-64d81f1afad2"
      },
      "source": [
        "# Update the dictionary with correct value of runs\n",
        "aravali['Rohit'] = rohit_runs\n",
        "print(aravali)"
      ],
      "execution_count": 41,
      "outputs": [
        {
          "output_type": "stream",
          "name": "stdout",
          "text": [
            "{'Dhoni': 25, 'Virat': 31, 'Pollard': 11, 'Rohit': 45, 'Maxwell': 12, 'Sachin': 59, 'Sehwag': 12}\n"
          ]
        }
      ]
    },
    {
      "cell_type": "markdown",
      "metadata": {
        "id": "iM1FJFlWh7C5"
      },
      "source": [
        "## <u>Problem 3</u>\n",
        "\n",
        "#### Your next task is to find out who scored the second highest runs in Team Aravali"
      ]
    },
    {
      "cell_type": "markdown",
      "metadata": {
        "id": "NP8T6swt-fDV"
      },
      "source": [
        "###  <u>Approach 1</u>"
      ]
    },
    {
      "cell_type": "code",
      "metadata": {
        "id": "YPdfTlsKiWVx"
      },
      "source": [
        "# Your code below\n",
        "aravali_copy = aravali.copy()"
      ],
      "execution_count": 42,
      "outputs": []
    },
    {
      "cell_type": "code",
      "metadata": {
        "id": "rchwFGCc7-RU",
        "colab": {
          "base_uri": "https://localhost:8080/"
        },
        "outputId": "57157586-49af-44ab-cc19-e1c0a9e9d539"
      },
      "source": [
        "aravali_copy"
      ],
      "execution_count": 43,
      "outputs": [
        {
          "output_type": "execute_result",
          "data": {
            "text/plain": [
              "{'Dhoni': 25,\n",
              " 'Virat': 31,\n",
              " 'Pollard': 11,\n",
              " 'Rohit': 45,\n",
              " 'Maxwell': 12,\n",
              " 'Sachin': 59,\n",
              " 'Sehwag': 12}"
            ]
          },
          "metadata": {},
          "execution_count": 43
        }
      ]
    },
    {
      "cell_type": "code",
      "metadata": {
        "id": "ROgmIGYb8BV-",
        "colab": {
          "base_uri": "https://localhost:8080/"
        },
        "outputId": "e55e63fa-9c5f-402a-b90f-71e13d1cc00a"
      },
      "source": [
        "max_runs = max(list(aravali_copy.values()))\n",
        "max_run_index = list(aravali_copy.values()).index(max_runs)\n",
        "print(max_run_index)"
      ],
      "execution_count": 44,
      "outputs": [
        {
          "output_type": "stream",
          "name": "stdout",
          "text": [
            "5\n"
          ]
        }
      ]
    },
    {
      "cell_type": "code",
      "metadata": {
        "id": "AGaZ8y208qtB",
        "colab": {
          "base_uri": "https://localhost:8080/"
        },
        "outputId": "2e8574fb-c585-4c3b-f948-d66e09bbdf82"
      },
      "source": [
        "aravali_players = list(aravali_copy.keys())\n",
        "print(aravali_players)"
      ],
      "execution_count": 45,
      "outputs": [
        {
          "output_type": "stream",
          "name": "stdout",
          "text": [
            "['Dhoni', 'Virat', 'Pollard', 'Rohit', 'Maxwell', 'Sachin', 'Sehwag']\n"
          ]
        }
      ]
    },
    {
      "cell_type": "code",
      "metadata": {
        "id": "9ZIc_3ZI8q0H"
      },
      "source": [
        "highest_run_scorer = aravali_players[max_run_index]"
      ],
      "execution_count": 46,
      "outputs": []
    },
    {
      "cell_type": "code",
      "metadata": {
        "id": "3JjeRXQ68q4V",
        "colab": {
          "base_uri": "https://localhost:8080/"
        },
        "outputId": "42df7fc7-5d43-4b39-f00d-a49bdf7086f9"
      },
      "source": [
        "aravali_copy.pop(highest_run_scorer)"
      ],
      "execution_count": 47,
      "outputs": [
        {
          "output_type": "execute_result",
          "data": {
            "text/plain": [
              "59"
            ]
          },
          "metadata": {},
          "execution_count": 47
        }
      ]
    },
    {
      "cell_type": "code",
      "metadata": {
        "id": "6W_vQone9Lrq",
        "colab": {
          "base_uri": "https://localhost:8080/"
        },
        "outputId": "4b7d20db-b7af-404c-964f-9bd2d48783e5"
      },
      "source": [
        "print(aravali_copy)"
      ],
      "execution_count": 48,
      "outputs": [
        {
          "output_type": "stream",
          "name": "stdout",
          "text": [
            "{'Dhoni': 25, 'Virat': 31, 'Pollard': 11, 'Rohit': 45, 'Maxwell': 12, 'Sehwag': 12}\n"
          ]
        }
      ]
    },
    {
      "cell_type": "code",
      "metadata": {
        "id": "0YBKUfw39Lu0",
        "colab": {
          "base_uri": "https://localhost:8080/"
        },
        "outputId": "8208d433-d5e0-4ffb-8a02-0fa60e8c4ee4"
      },
      "source": [
        "max_runs = max(list(aravali_copy.values()))\n",
        "max_run_index = list(aravali_copy.values()).index(max_runs)\n",
        "print(max_run_index)"
      ],
      "execution_count": 49,
      "outputs": [
        {
          "output_type": "stream",
          "name": "stdout",
          "text": [
            "3\n"
          ]
        }
      ]
    },
    {
      "cell_type": "code",
      "metadata": {
        "id": "oCssb6Ke9Z1n",
        "colab": {
          "base_uri": "https://localhost:8080/"
        },
        "outputId": "720e74fd-df65-448f-db19-ab9fd012e59b"
      },
      "source": [
        "aravali_players = list(aravali_copy.keys())\n",
        "print(aravali_players)"
      ],
      "execution_count": 50,
      "outputs": [
        {
          "output_type": "stream",
          "name": "stdout",
          "text": [
            "['Dhoni', 'Virat', 'Pollard', 'Rohit', 'Maxwell', 'Sehwag']\n"
          ]
        }
      ]
    },
    {
      "cell_type": "code",
      "metadata": {
        "id": "vnfepqAw9L4A",
        "colab": {
          "base_uri": "https://localhost:8080/"
        },
        "outputId": "81097972-2f13-42a5-d95b-c3d9359b4a77"
      },
      "source": [
        "print(f'The second highest scorer from Team Aravali is {aravali_players[max_run_index]}')"
      ],
      "execution_count": 51,
      "outputs": [
        {
          "output_type": "stream",
          "name": "stdout",
          "text": [
            "The second highest scorer from Team Aravali is Rohit\n"
          ]
        }
      ]
    },
    {
      "cell_type": "markdown",
      "metadata": {
        "id": "se80XQGBGekX"
      },
      "source": [
        "## <u>Problem 4</u>\n",
        "\n",
        "#### Just out of curiosity, you want to find out the unique runs made by Team Aravali players."
      ]
    },
    {
      "cell_type": "code",
      "metadata": {
        "id": "X-XQWW4lGZaG"
      },
      "source": [
        "# Your code below\n",
        "run_set = set(list(aravali.values()))"
      ],
      "execution_count": 52,
      "outputs": []
    },
    {
      "cell_type": "code",
      "metadata": {
        "id": "GL56nYUzF6hs",
        "colab": {
          "base_uri": "https://localhost:8080/"
        },
        "outputId": "6f850aa8-e4ed-4923-c79c-38051882d142"
      },
      "source": [
        "# Print the unique runs\n",
        "run_set"
      ],
      "execution_count": 53,
      "outputs": [
        {
          "output_type": "execute_result",
          "data": {
            "text/plain": [
              "{11, 12, 25, 31, 45, 59}"
            ]
          },
          "metadata": {},
          "execution_count": 53
        }
      ]
    },
    {
      "cell_type": "markdown",
      "metadata": {
        "id": "IJvnHaNzeGMP"
      },
      "source": [
        "## <u>Problem 5</u>\n",
        "#### Team Shivalik has 6 fixed players and 5 slots for players who are playing good currently. Create two collections using appropriate data structure to write this 6 fixed and 5 mutable players. You can choose any player you want.\n",
        "\n",
        "#### Available Players in the squad : \n",
        "<code>['Vijay', 'Lasith', 'Dravid', 'Smith', 'Ambati', 'Hardik', 'Sushant', 'Mandeep', 'Harbhajan', 'Yuvraj', 'Jadeja','Rajeev','Amrit']\n"
      ]
    },
    {
      "cell_type": "code",
      "metadata": {
        "id": "-0hTOMTQdEXE"
      },
      "source": [
        "# Your code below\n",
        "fixed = ('Vijay', 'Lasith', 'Dravid', 'Smith', 'Ambati','Hardik')\n",
        "mutable = [ 'Sushant', 'Mandeep', 'Harbhajan', 'Yuvraj', 'Jadeja']"
      ],
      "execution_count": 54,
      "outputs": []
    },
    {
      "cell_type": "code",
      "metadata": {
        "id": "FUIL4iblDTIo",
        "colab": {
          "base_uri": "https://localhost:8080/"
        },
        "outputId": "a089cc26-34e1-4c49-c0f6-122a27947da4"
      },
      "source": [
        "print(fixed)"
      ],
      "execution_count": 55,
      "outputs": [
        {
          "output_type": "stream",
          "name": "stdout",
          "text": [
            "('Vijay', 'Lasith', 'Dravid', 'Smith', 'Ambati', 'Hardik')\n"
          ]
        }
      ]
    },
    {
      "cell_type": "code",
      "metadata": {
        "id": "LRUwyjXzDWyF",
        "colab": {
          "base_uri": "https://localhost:8080/"
        },
        "outputId": "bf4c1074-1a4a-4a12-9aae-307956b3508d"
      },
      "source": [
        "print(mutable)"
      ],
      "execution_count": 56,
      "outputs": [
        {
          "output_type": "stream",
          "name": "stdout",
          "text": [
            "['Sushant', 'Mandeep', 'Harbhajan', 'Yuvraj', 'Jadeja']\n"
          ]
        }
      ]
    },
    {
      "cell_type": "code",
      "metadata": {
        "id": "1PEvrGDwfjc5",
        "colab": {
          "base_uri": "https://localhost:8080/"
        },
        "outputId": "c7fe5ac6-10e1-4d79-cd78-b498331840f7"
      },
      "source": [
        "# Print them on same line using comma to separate them\n",
        "print(f'{fixed},{mutable}')"
      ],
      "execution_count": 57,
      "outputs": [
        {
          "output_type": "stream",
          "name": "stdout",
          "text": [
            "('Vijay', 'Lasith', 'Dravid', 'Smith', 'Ambati', 'Hardik'),['Sushant', 'Mandeep', 'Harbhajan', 'Yuvraj', 'Jadeja']\n"
          ]
        }
      ]
    },
    {
      "cell_type": "code",
      "metadata": {
        "id": "QUR1GgmZDoEF",
        "colab": {
          "base_uri": "https://localhost:8080/"
        },
        "outputId": "a3e77bed-29f5-4d48-fc8a-13f5d00af6e9"
      },
      "source": [
        "help(print)"
      ],
      "execution_count": 58,
      "outputs": [
        {
          "output_type": "stream",
          "name": "stdout",
          "text": [
            "Help on built-in function print in module builtins:\n",
            "\n",
            "print(...)\n",
            "    print(value, ..., sep=' ', end='\\n', file=sys.stdout, flush=False)\n",
            "    \n",
            "    Prints the values to a stream, or to sys.stdout by default.\n",
            "    Optional keyword arguments:\n",
            "    file:  a file-like object (stream); defaults to the current sys.stdout.\n",
            "    sep:   string inserted between values, default a space.\n",
            "    end:   string appended after the last value, default a newline.\n",
            "    flush: whether to forcibly flush the stream.\n",
            "\n"
          ]
        }
      ]
    },
    {
      "cell_type": "code",
      "metadata": {
        "id": "ssuIdJarD2tG",
        "colab": {
          "base_uri": "https://localhost:8080/"
        },
        "outputId": "67a07d60-952c-48fe-ee7d-4fd9a16eb199"
      },
      "source": [
        "print(fixed,mutable,sep=\",\")"
      ],
      "execution_count": 59,
      "outputs": [
        {
          "output_type": "stream",
          "name": "stdout",
          "text": [
            "('Vijay', 'Lasith', 'Dravid', 'Smith', 'Ambati', 'Hardik'),['Sushant', 'Mandeep', 'Harbhajan', 'Yuvraj', 'Jadeja']\n"
          ]
        }
      ]
    },
    {
      "cell_type": "code",
      "metadata": {
        "id": "9kpK40sJD9RB",
        "colab": {
          "base_uri": "https://localhost:8080/"
        },
        "outputId": "79337c7d-9bf6-497a-a364-84f009068a54"
      },
      "source": [
        "print(fixed,',',mutable)"
      ],
      "execution_count": 60,
      "outputs": [
        {
          "output_type": "stream",
          "name": "stdout",
          "text": [
            "('Vijay', 'Lasith', 'Dravid', 'Smith', 'Ambati', 'Hardik') , ['Sushant', 'Mandeep', 'Harbhajan', 'Yuvraj', 'Jadeja']\n"
          ]
        }
      ]
    },
    {
      "cell_type": "markdown",
      "metadata": {
        "id": "KHrH5V0HFFhq"
      },
      "source": [
        "## <u> Problem 6</u>\n",
        "\n",
        "#### Find out the runrate required for Team Shivalik to win (for 20 overs)<br> \n",
        "#### Hint: Runrate is runs required per over to win the match"
      ]
    },
    {
      "cell_type": "code",
      "metadata": {
        "id": "QFd1CnS5E79X"
      },
      "source": [
        "# Your code here\n",
        "total_runs = 195\n",
        "required_runrate = (total_runs+1)/20"
      ],
      "execution_count": 27,
      "outputs": []
    },
    {
      "cell_type": "code",
      "metadata": {
        "id": "7f5Mnj93Ft3a",
        "colab": {
          "base_uri": "https://localhost:8080/"
        },
        "outputId": "73bbecfb-378b-4358-8c67-486fe5b86614"
      },
      "source": [
        "# Print the run rate\n",
        "print(required_runrate)"
      ],
      "execution_count": 28,
      "outputs": [
        {
          "output_type": "stream",
          "name": "stdout",
          "text": [
            "9.8\n"
          ]
        }
      ]
    },
    {
      "cell_type": "markdown",
      "metadata": {
        "id": "uukQzwZQNwBE"
      },
      "source": [
        "## <u> Problem 7</u>\n",
        "#### You have just received a secret message form your informant stating that some players of the other team are into match fixing. You have to decode a message and inform authorities about it.<br>\n",
        "\n",
        "#### You received a string **\"skdlfjnvuerhw qefnnaosfu qrhviudhfv wuirhv adknlkxjcier vafuvhkajn iuvhsf vasuif KJSHFKJ aeuihvasf akjfhiufe\"** and position of \"i\" are going to be \"no balls\".\n",
        "\n",
        "\n",
        "### Find the first and last no ball from the string."
      ]
    },
    {
      "cell_type": "code",
      "metadata": {
        "id": "qJpki-fNJxvr",
        "colab": {
          "base_uri": "https://localhost:8080/"
        },
        "outputId": "db2ca9bf-d70b-4c16-e1e0-05500e08e43f"
      },
      "source": [
        "#First no ball\n",
        "message = \"skibhiko\"\n",
        "\n",
        "first_no_ball_number = message.index('i') + 1\n",
        "print(f'The first no ball will be delivered at the number {first_no_ball_number}')"
      ],
      "execution_count": 29,
      "outputs": [
        {
          "output_type": "stream",
          "name": "stdout",
          "text": [
            "The first no ball will be delivered at the number 3\n"
          ]
        }
      ]
    },
    {
      "cell_type": "code",
      "metadata": {
        "id": "N9krTk1aG2n0",
        "colab": {
          "base_uri": "https://localhost:8080/"
        },
        "outputId": "ed924672-04a8-43b6-9fa9-da36f13a06bb"
      },
      "source": [
        "# Last no ball\n",
        "reverse_message = message[::-1]\n",
        "\n",
        "# Find the first occurrence in this reversed message\n",
        "no_ball_number = reverse_message.index('i') \n",
        "\n",
        "print(no_ball_number)"
      ],
      "execution_count": 30,
      "outputs": [
        {
          "output_type": "stream",
          "name": "stdout",
          "text": [
            "2\n"
          ]
        }
      ]
    },
    {
      "cell_type": "code",
      "metadata": {
        "id": "8qMvmZydQAlr",
        "colab": {
          "base_uri": "https://localhost:8080/"
        },
        "outputId": "7d8134bc-4678-494b-cd34-fb27884fc271"
      },
      "source": [
        "# Print the first and last ball numbers\n",
        "message_length = len(message)\n",
        "\n",
        "last_no_ball_number = message_length - no_ball_number\n",
        "\n",
        "print(f'The last no ball will be delivered at the delivery number {last_no_ball_number}')"
      ],
      "execution_count": 31,
      "outputs": [
        {
          "output_type": "stream",
          "name": "stdout",
          "text": [
            "The last no ball will be delivered at the delivery number 6\n"
          ]
        }
      ]
    },
    {
      "cell_type": "markdown",
      "metadata": {
        "id": "dOIGKmlKaV8j"
      },
      "source": [
        "## <u>Problem 8</u>\n",
        "\n",
        "### You have given the information about fixing to the authorities and they are going to verify it during the match. But still you have to work on your strategy.\n",
        "\n",
        "### It is in your hands to automate the decision on who goes on 4th position for batting depending on following criteria:\n",
        "\n",
        "* if runs made by Team Shivalik is less than 50, Smith will play\n",
        "* if runs are between 50 to 100 then Sir Jadeja will go\n",
        "* if runs are above 100 then Hardik will play"
      ]
    },
    {
      "cell_type": "code",
      "metadata": {
        "id": "DpnGURU1Y-Af",
        "colab": {
          "base_uri": "https://localhost:8080/"
        },
        "outputId": "5ca8780f-733c-4bc2-8971-87db9728378f"
      },
      "source": [
        "# Your code below\n",
        "shivalik_runs = int(input())"
      ],
      "execution_count": 32,
      "outputs": [
        {
          "name": "stdout",
          "output_type": "stream",
          "text": [
            "76\n"
          ]
        }
      ]
    },
    {
      "cell_type": "code",
      "metadata": {
        "id": "d7eFAZQEJrqU",
        "colab": {
          "base_uri": "https://localhost:8080/"
        },
        "outputId": "a97d00ca-6d53-4f68-d3fe-6f69442143fb"
      },
      "source": [
        "print(shivalik_runs)"
      ],
      "execution_count": 33,
      "outputs": [
        {
          "output_type": "stream",
          "name": "stdout",
          "text": [
            "76\n"
          ]
        }
      ]
    },
    {
      "cell_type": "code",
      "metadata": {
        "id": "2CYGOSG9JDc5",
        "colab": {
          "base_uri": "https://localhost:8080/"
        },
        "outputId": "b21660be-df9d-406e-cc18-2756ab1a35d8"
      },
      "source": [
        "# Write the required if elif else statements\n",
        "\n",
        "if shivalik_runs > 0 and shivalik_runs < 50 :\n",
        "  print(\"Smith will go\")\n",
        "elif shivalik_runs >=50 and shivalik_runs < 100 :\n",
        "  print(\"Sir Jadeja will go\")\n",
        "elif shivalik_runs >=100:\n",
        "  print(\"Send Hardik to bat\")\n",
        "else:\n",
        "  print(\"Invalid runs\")"
      ],
      "execution_count": 34,
      "outputs": [
        {
          "output_type": "stream",
          "name": "stdout",
          "text": [
            "Sir Jadeja will go\n"
          ]
        }
      ]
    },
    {
      "cell_type": "markdown",
      "metadata": {
        "id": "kLakmjOYmKMM"
      },
      "source": [
        "# Hurray! Turns out we won the match and the guilty players are punished as well."
      ]
    }
  ]
}